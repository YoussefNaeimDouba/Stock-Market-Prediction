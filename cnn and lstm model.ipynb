{
 "cells": [
  {
   "cell_type": "code",
   "execution_count": 1,
   "id": "a4dbe8ad",
   "metadata": {},
   "outputs": [],
   "source": [
    "import math\n",
    "import pandas as pd \n",
    "import seaborn as sns\n",
    "import pandas_datareader as data\n",
    "import datetime as dt\n",
    "from datetime import datetime    \n",
    "sns.set_style(\"whitegrid\")\n",
    "from pandas.plotting import autocorrelation_plot\n",
    "import matplotlib.pyplot as plt\n",
    "%matplotlib inline\n",
    "plt.style.use(\"ggplot\")"
   ]
  },
  {
   "cell_type": "code",
   "execution_count": 2,
   "id": "6f0f99d5",
   "metadata": {},
   "outputs": [
    {
     "data": {
      "text/html": [
       "<div>\n",
       "<style scoped>\n",
       "    .dataframe tbody tr th:only-of-type {\n",
       "        vertical-align: middle;\n",
       "    }\n",
       "\n",
       "    .dataframe tbody tr th {\n",
       "        vertical-align: top;\n",
       "    }\n",
       "\n",
       "    .dataframe thead th {\n",
       "        text-align: right;\n",
       "    }\n",
       "</style>\n",
       "<table border=\"1\" class=\"dataframe\">\n",
       "  <thead>\n",
       "    <tr style=\"text-align: right;\">\n",
       "      <th></th>\n",
       "      <th>High</th>\n",
       "      <th>Low</th>\n",
       "      <th>Open</th>\n",
       "      <th>Close</th>\n",
       "      <th>Volume</th>\n",
       "      <th>Adj Close</th>\n",
       "    </tr>\n",
       "    <tr>\n",
       "      <th>Date</th>\n",
       "      <th></th>\n",
       "      <th></th>\n",
       "      <th></th>\n",
       "      <th></th>\n",
       "      <th></th>\n",
       "      <th></th>\n",
       "    </tr>\n",
       "  </thead>\n",
       "  <tbody>\n",
       "    <tr>\n",
       "      <th>2010-01-04</th>\n",
       "      <td>7.660714</td>\n",
       "      <td>7.585000</td>\n",
       "      <td>7.622500</td>\n",
       "      <td>7.643214</td>\n",
       "      <td>493729600.0</td>\n",
       "      <td>6.553026</td>\n",
       "    </tr>\n",
       "    <tr>\n",
       "      <th>2010-01-05</th>\n",
       "      <td>7.699643</td>\n",
       "      <td>7.616071</td>\n",
       "      <td>7.664286</td>\n",
       "      <td>7.656429</td>\n",
       "      <td>601904800.0</td>\n",
       "      <td>6.564354</td>\n",
       "    </tr>\n",
       "    <tr>\n",
       "      <th>2010-01-06</th>\n",
       "      <td>7.686786</td>\n",
       "      <td>7.526786</td>\n",
       "      <td>7.656429</td>\n",
       "      <td>7.534643</td>\n",
       "      <td>552160000.0</td>\n",
       "      <td>6.459939</td>\n",
       "    </tr>\n",
       "    <tr>\n",
       "      <th>2010-01-07</th>\n",
       "      <td>7.571429</td>\n",
       "      <td>7.466071</td>\n",
       "      <td>7.562500</td>\n",
       "      <td>7.520714</td>\n",
       "      <td>477131200.0</td>\n",
       "      <td>6.447999</td>\n",
       "    </tr>\n",
       "    <tr>\n",
       "      <th>2010-01-08</th>\n",
       "      <td>7.571429</td>\n",
       "      <td>7.466429</td>\n",
       "      <td>7.510714</td>\n",
       "      <td>7.570714</td>\n",
       "      <td>447610800.0</td>\n",
       "      <td>6.490866</td>\n",
       "    </tr>\n",
       "  </tbody>\n",
       "</table>\n",
       "</div>"
      ],
      "text/plain": [
       "                High       Low      Open     Close       Volume  Adj Close\n",
       "Date                                                                      \n",
       "2010-01-04  7.660714  7.585000  7.622500  7.643214  493729600.0   6.553026\n",
       "2010-01-05  7.699643  7.616071  7.664286  7.656429  601904800.0   6.564354\n",
       "2010-01-06  7.686786  7.526786  7.656429  7.534643  552160000.0   6.459939\n",
       "2010-01-07  7.571429  7.466071  7.562500  7.520714  477131200.0   6.447999\n",
       "2010-01-08  7.571429  7.466429  7.510714  7.570714  447610800.0   6.490866"
      ]
     },
     "execution_count": 2,
     "metadata": {},
     "output_type": "execute_result"
    }
   ],
   "source": [
    "start = '2010-01-01'\n",
    "end = '2021-12-31'\n",
    "\n",
    "df = data.DataReader('AAPL','yahoo',start,end)\n",
    "df.head()"
   ]
  },
  {
   "cell_type": "code",
   "execution_count": 3,
   "id": "f2748349",
   "metadata": {},
   "outputs": [
    {
     "data": {
      "text/html": [
       "<div>\n",
       "<style scoped>\n",
       "    .dataframe tbody tr th:only-of-type {\n",
       "        vertical-align: middle;\n",
       "    }\n",
       "\n",
       "    .dataframe tbody tr th {\n",
       "        vertical-align: top;\n",
       "    }\n",
       "\n",
       "    .dataframe thead th {\n",
       "        text-align: right;\n",
       "    }\n",
       "</style>\n",
       "<table border=\"1\" class=\"dataframe\">\n",
       "  <thead>\n",
       "    <tr style=\"text-align: right;\">\n",
       "      <th></th>\n",
       "      <th>High</th>\n",
       "      <th>Low</th>\n",
       "      <th>Open</th>\n",
       "      <th>Close</th>\n",
       "      <th>Volume</th>\n",
       "      <th>Adj Close</th>\n",
       "    </tr>\n",
       "    <tr>\n",
       "      <th>Date</th>\n",
       "      <th></th>\n",
       "      <th></th>\n",
       "      <th></th>\n",
       "      <th></th>\n",
       "      <th></th>\n",
       "      <th></th>\n",
       "    </tr>\n",
       "  </thead>\n",
       "  <tbody>\n",
       "    <tr>\n",
       "      <th>2021-12-27</th>\n",
       "      <td>180.419998</td>\n",
       "      <td>177.070007</td>\n",
       "      <td>177.089996</td>\n",
       "      <td>180.330002</td>\n",
       "      <td>74919600.0</td>\n",
       "      <td>180.330002</td>\n",
       "    </tr>\n",
       "    <tr>\n",
       "      <th>2021-12-28</th>\n",
       "      <td>181.330002</td>\n",
       "      <td>178.529999</td>\n",
       "      <td>180.160004</td>\n",
       "      <td>179.289993</td>\n",
       "      <td>79144300.0</td>\n",
       "      <td>179.289993</td>\n",
       "    </tr>\n",
       "    <tr>\n",
       "      <th>2021-12-29</th>\n",
       "      <td>180.630005</td>\n",
       "      <td>178.139999</td>\n",
       "      <td>179.330002</td>\n",
       "      <td>179.380005</td>\n",
       "      <td>62348900.0</td>\n",
       "      <td>179.380005</td>\n",
       "    </tr>\n",
       "    <tr>\n",
       "      <th>2021-12-30</th>\n",
       "      <td>180.570007</td>\n",
       "      <td>178.089996</td>\n",
       "      <td>179.470001</td>\n",
       "      <td>178.199997</td>\n",
       "      <td>59773000.0</td>\n",
       "      <td>178.199997</td>\n",
       "    </tr>\n",
       "    <tr>\n",
       "      <th>2021-12-31</th>\n",
       "      <td>179.229996</td>\n",
       "      <td>177.259995</td>\n",
       "      <td>178.089996</td>\n",
       "      <td>177.570007</td>\n",
       "      <td>64062300.0</td>\n",
       "      <td>177.570007</td>\n",
       "    </tr>\n",
       "  </tbody>\n",
       "</table>\n",
       "</div>"
      ],
      "text/plain": [
       "                  High         Low        Open       Close      Volume  \\\n",
       "Date                                                                     \n",
       "2021-12-27  180.419998  177.070007  177.089996  180.330002  74919600.0   \n",
       "2021-12-28  181.330002  178.529999  180.160004  179.289993  79144300.0   \n",
       "2021-12-29  180.630005  178.139999  179.330002  179.380005  62348900.0   \n",
       "2021-12-30  180.570007  178.089996  179.470001  178.199997  59773000.0   \n",
       "2021-12-31  179.229996  177.259995  178.089996  177.570007  64062300.0   \n",
       "\n",
       "             Adj Close  \n",
       "Date                    \n",
       "2021-12-27  180.330002  \n",
       "2021-12-28  179.289993  \n",
       "2021-12-29  179.380005  \n",
       "2021-12-30  178.199997  \n",
       "2021-12-31  177.570007  "
      ]
     },
     "execution_count": 3,
     "metadata": {},
     "output_type": "execute_result"
    }
   ],
   "source": [
    "df.tail()"
   ]
  },
  {
   "cell_type": "code",
   "execution_count": 4,
   "id": "12933b5c",
   "metadata": {},
   "outputs": [
    {
     "data": {
      "text/html": [
       "<div>\n",
       "<style scoped>\n",
       "    .dataframe tbody tr th:only-of-type {\n",
       "        vertical-align: middle;\n",
       "    }\n",
       "\n",
       "    .dataframe tbody tr th {\n",
       "        vertical-align: top;\n",
       "    }\n",
       "\n",
       "    .dataframe thead th {\n",
       "        text-align: right;\n",
       "    }\n",
       "</style>\n",
       "<table border=\"1\" class=\"dataframe\">\n",
       "  <thead>\n",
       "    <tr style=\"text-align: right;\">\n",
       "      <th></th>\n",
       "      <th>Date</th>\n",
       "      <th>High</th>\n",
       "      <th>Low</th>\n",
       "      <th>Open</th>\n",
       "      <th>Close</th>\n",
       "      <th>Volume</th>\n",
       "      <th>Adj Close</th>\n",
       "    </tr>\n",
       "  </thead>\n",
       "  <tbody>\n",
       "    <tr>\n",
       "      <th>0</th>\n",
       "      <td>2010-01-04</td>\n",
       "      <td>7.660714</td>\n",
       "      <td>7.585000</td>\n",
       "      <td>7.622500</td>\n",
       "      <td>7.643214</td>\n",
       "      <td>493729600.0</td>\n",
       "      <td>6.553026</td>\n",
       "    </tr>\n",
       "    <tr>\n",
       "      <th>1</th>\n",
       "      <td>2010-01-05</td>\n",
       "      <td>7.699643</td>\n",
       "      <td>7.616071</td>\n",
       "      <td>7.664286</td>\n",
       "      <td>7.656429</td>\n",
       "      <td>601904800.0</td>\n",
       "      <td>6.564354</td>\n",
       "    </tr>\n",
       "    <tr>\n",
       "      <th>2</th>\n",
       "      <td>2010-01-06</td>\n",
       "      <td>7.686786</td>\n",
       "      <td>7.526786</td>\n",
       "      <td>7.656429</td>\n",
       "      <td>7.534643</td>\n",
       "      <td>552160000.0</td>\n",
       "      <td>6.459939</td>\n",
       "    </tr>\n",
       "    <tr>\n",
       "      <th>3</th>\n",
       "      <td>2010-01-07</td>\n",
       "      <td>7.571429</td>\n",
       "      <td>7.466071</td>\n",
       "      <td>7.562500</td>\n",
       "      <td>7.520714</td>\n",
       "      <td>477131200.0</td>\n",
       "      <td>6.447999</td>\n",
       "    </tr>\n",
       "    <tr>\n",
       "      <th>4</th>\n",
       "      <td>2010-01-08</td>\n",
       "      <td>7.571429</td>\n",
       "      <td>7.466429</td>\n",
       "      <td>7.510714</td>\n",
       "      <td>7.570714</td>\n",
       "      <td>447610800.0</td>\n",
       "      <td>6.490866</td>\n",
       "    </tr>\n",
       "  </tbody>\n",
       "</table>\n",
       "</div>"
      ],
      "text/plain": [
       "        Date      High       Low      Open     Close       Volume  Adj Close\n",
       "0 2010-01-04  7.660714  7.585000  7.622500  7.643214  493729600.0   6.553026\n",
       "1 2010-01-05  7.699643  7.616071  7.664286  7.656429  601904800.0   6.564354\n",
       "2 2010-01-06  7.686786  7.526786  7.656429  7.534643  552160000.0   6.459939\n",
       "3 2010-01-07  7.571429  7.466071  7.562500  7.520714  477131200.0   6.447999\n",
       "4 2010-01-08  7.571429  7.466429  7.510714  7.570714  447610800.0   6.490866"
      ]
     },
     "execution_count": 4,
     "metadata": {},
     "output_type": "execute_result"
    }
   ],
   "source": [
    "df = df.reset_index()\n",
    "df.head()"
   ]
  },
  {
   "cell_type": "code",
   "execution_count": 5,
   "id": "91b6f230",
   "metadata": {},
   "outputs": [
    {
     "data": {
      "text/html": [
       "<div>\n",
       "<style scoped>\n",
       "    .dataframe tbody tr th:only-of-type {\n",
       "        vertical-align: middle;\n",
       "    }\n",
       "\n",
       "    .dataframe tbody tr th {\n",
       "        vertical-align: top;\n",
       "    }\n",
       "\n",
       "    .dataframe thead th {\n",
       "        text-align: right;\n",
       "    }\n",
       "</style>\n",
       "<table border=\"1\" class=\"dataframe\">\n",
       "  <thead>\n",
       "    <tr style=\"text-align: right;\">\n",
       "      <th></th>\n",
       "      <th>High</th>\n",
       "      <th>Low</th>\n",
       "      <th>Open</th>\n",
       "      <th>Close</th>\n",
       "      <th>Volume</th>\n",
       "    </tr>\n",
       "  </thead>\n",
       "  <tbody>\n",
       "    <tr>\n",
       "      <th>0</th>\n",
       "      <td>7.660714</td>\n",
       "      <td>7.585000</td>\n",
       "      <td>7.622500</td>\n",
       "      <td>7.643214</td>\n",
       "      <td>493729600.0</td>\n",
       "    </tr>\n",
       "    <tr>\n",
       "      <th>1</th>\n",
       "      <td>7.699643</td>\n",
       "      <td>7.616071</td>\n",
       "      <td>7.664286</td>\n",
       "      <td>7.656429</td>\n",
       "      <td>601904800.0</td>\n",
       "    </tr>\n",
       "    <tr>\n",
       "      <th>2</th>\n",
       "      <td>7.686786</td>\n",
       "      <td>7.526786</td>\n",
       "      <td>7.656429</td>\n",
       "      <td>7.534643</td>\n",
       "      <td>552160000.0</td>\n",
       "    </tr>\n",
       "    <tr>\n",
       "      <th>3</th>\n",
       "      <td>7.571429</td>\n",
       "      <td>7.466071</td>\n",
       "      <td>7.562500</td>\n",
       "      <td>7.520714</td>\n",
       "      <td>477131200.0</td>\n",
       "    </tr>\n",
       "    <tr>\n",
       "      <th>4</th>\n",
       "      <td>7.571429</td>\n",
       "      <td>7.466429</td>\n",
       "      <td>7.510714</td>\n",
       "      <td>7.570714</td>\n",
       "      <td>447610800.0</td>\n",
       "    </tr>\n",
       "  </tbody>\n",
       "</table>\n",
       "</div>"
      ],
      "text/plain": [
       "       High       Low      Open     Close       Volume\n",
       "0  7.660714  7.585000  7.622500  7.643214  493729600.0\n",
       "1  7.699643  7.616071  7.664286  7.656429  601904800.0\n",
       "2  7.686786  7.526786  7.656429  7.534643  552160000.0\n",
       "3  7.571429  7.466071  7.562500  7.520714  477131200.0\n",
       "4  7.571429  7.466429  7.510714  7.570714  447610800.0"
      ]
     },
     "execution_count": 5,
     "metadata": {},
     "output_type": "execute_result"
    }
   ],
   "source": [
    "df = df.drop(['Date','Adj Close'] , axis = 1)\n",
    "df.head()"
   ]
  },
  {
   "cell_type": "code",
   "execution_count": 6,
   "id": "0438d6b8",
   "metadata": {},
   "outputs": [
    {
     "data": {
      "image/png": "[encoded data removed]",
      "text/plain": [
       "<Figure size 864x432 with 5 Axes>"
      ]
     },
     "metadata": {},
     "output_type": "display_data"
    }
   ],
   "source": [
    "df.plot(legend=True,subplots=True, figsize = (12, 6))\n",
    "plt.show()"
   ]
  },
  {
   "cell_type": "code",
   "execution_count": 7,
   "id": "082c9356",
   "metadata": {},
   "outputs": [
    {
     "data": {
      "text/html": [
       "<div>\n",
       "<style scoped>\n",
       "    .dataframe tbody tr th:only-of-type {\n",
       "        vertical-align: middle;\n",
       "    }\n",
       "\n",
       "    .dataframe tbody tr th {\n",
       "        vertical-align: top;\n",
       "    }\n",
       "\n",
       "    .dataframe thead th {\n",
       "        text-align: right;\n",
       "    }\n",
       "</style>\n",
       "<table border=\"1\" class=\"dataframe\">\n",
       "  <thead>\n",
       "    <tr style=\"text-align: right;\">\n",
       "      <th></th>\n",
       "      <th>High</th>\n",
       "      <th>Low</th>\n",
       "      <th>Open</th>\n",
       "      <th>Close</th>\n",
       "      <th>Volume</th>\n",
       "    </tr>\n",
       "  </thead>\n",
       "  <tbody>\n",
       "    <tr>\n",
       "      <th>0</th>\n",
       "      <td>7.660714</td>\n",
       "      <td>7.585000</td>\n",
       "      <td>7.622500</td>\n",
       "      <td>7.643214</td>\n",
       "      <td>493729600.0</td>\n",
       "    </tr>\n",
       "    <tr>\n",
       "      <th>1</th>\n",
       "      <td>7.699643</td>\n",
       "      <td>7.616071</td>\n",
       "      <td>7.664286</td>\n",
       "      <td>7.656429</td>\n",
       "      <td>601904800.0</td>\n",
       "    </tr>\n",
       "    <tr>\n",
       "      <th>2</th>\n",
       "      <td>7.686786</td>\n",
       "      <td>7.526786</td>\n",
       "      <td>7.656429</td>\n",
       "      <td>7.534643</td>\n",
       "      <td>552160000.0</td>\n",
       "    </tr>\n",
       "    <tr>\n",
       "      <th>3</th>\n",
       "      <td>7.571429</td>\n",
       "      <td>7.466071</td>\n",
       "      <td>7.562500</td>\n",
       "      <td>7.520714</td>\n",
       "      <td>477131200.0</td>\n",
       "    </tr>\n",
       "    <tr>\n",
       "      <th>4</th>\n",
       "      <td>7.571429</td>\n",
       "      <td>7.466429</td>\n",
       "      <td>7.510714</td>\n",
       "      <td>7.570714</td>\n",
       "      <td>447610800.0</td>\n",
       "    </tr>\n",
       "    <tr>\n",
       "      <th>...</th>\n",
       "      <td>...</td>\n",
       "      <td>...</td>\n",
       "      <td>...</td>\n",
       "      <td>...</td>\n",
       "      <td>...</td>\n",
       "    </tr>\n",
       "    <tr>\n",
       "      <th>3016</th>\n",
       "      <td>180.419998</td>\n",
       "      <td>177.070007</td>\n",
       "      <td>177.089996</td>\n",
       "      <td>180.330002</td>\n",
       "      <td>74919600.0</td>\n",
       "    </tr>\n",
       "    <tr>\n",
       "      <th>3017</th>\n",
       "      <td>181.330002</td>\n",
       "      <td>178.529999</td>\n",
       "      <td>180.160004</td>\n",
       "      <td>179.289993</td>\n",
       "      <td>79144300.0</td>\n",
       "    </tr>\n",
       "    <tr>\n",
       "      <th>3018</th>\n",
       "      <td>180.630005</td>\n",
       "      <td>178.139999</td>\n",
       "      <td>179.330002</td>\n",
       "      <td>179.380005</td>\n",
       "      <td>62348900.0</td>\n",
       "    </tr>\n",
       "    <tr>\n",
       "      <th>3019</th>\n",
       "      <td>180.570007</td>\n",
       "      <td>178.089996</td>\n",
       "      <td>179.470001</td>\n",
       "      <td>178.199997</td>\n",
       "      <td>59773000.0</td>\n",
       "    </tr>\n",
       "    <tr>\n",
       "      <th>3020</th>\n",
       "      <td>179.229996</td>\n",
       "      <td>177.259995</td>\n",
       "      <td>178.089996</td>\n",
       "      <td>177.570007</td>\n",
       "      <td>64062300.0</td>\n",
       "    </tr>\n",
       "  </tbody>\n",
       "</table>\n",
       "<p>3021 rows × 5 columns</p>\n",
       "</div>"
      ],
      "text/plain": [
       "            High         Low        Open       Close       Volume\n",
       "0       7.660714    7.585000    7.622500    7.643214  493729600.0\n",
       "1       7.699643    7.616071    7.664286    7.656429  601904800.0\n",
       "2       7.686786    7.526786    7.656429    7.534643  552160000.0\n",
       "3       7.571429    7.466071    7.562500    7.520714  477131200.0\n",
       "4       7.571429    7.466429    7.510714    7.570714  447610800.0\n",
       "...          ...         ...         ...         ...          ...\n",
       "3016  180.419998  177.070007  177.089996  180.330002   74919600.0\n",
       "3017  181.330002  178.529999  180.160004  179.289993   79144300.0\n",
       "3018  180.630005  178.139999  179.330002  179.380005   62348900.0\n",
       "3019  180.570007  178.089996  179.470001  178.199997   59773000.0\n",
       "3020  179.229996  177.259995  178.089996  177.570007   64062300.0\n",
       "\n",
       "[3021 rows x 5 columns]"
      ]
     },
     "execution_count": 7,
     "metadata": {},
     "output_type": "execute_result"
    }
   ],
   "source": [
    "df"
   ]
  },
  {
   "cell_type": "code",
   "execution_count": 8,
   "id": "496ccfb7",
   "metadata": {},
   "outputs": [
    {
     "data": {
      "text/plain": [
       "0            NaN\n",
       "1            NaN\n",
       "2            NaN\n",
       "3            NaN\n",
       "4            NaN\n",
       "          ...   \n",
       "3016    153.3444\n",
       "3017    153.6667\n",
       "3018    153.9991\n",
       "3019    154.3202\n",
       "3020    154.6399\n",
       "Name: Close, Length: 3021, dtype: float64"
      ]
     },
     "execution_count": 8,
     "metadata": {},
     "output_type": "execute_result"
    }
   ],
   "source": [
    "ma100 = df.Close.rolling(100).mean()\n",
    "ma100"
   ]
  },
  {
   "cell_type": "code",
   "execution_count": 9,
   "id": "8d7cbaf4",
   "metadata": {},
   "outputs": [
    {
     "data": {
      "text/plain": [
       "[<matplotlib.lines.Line2D at 0x1f3cad82f08>]"
      ]
     },
     "execution_count": 9,
     "metadata": {},
     "output_type": "execute_result"
    },
    {
     "data": {
      "image/png": "[encoded data removed]",
      "text/plain": [
       "<Figure size 864x432 with 1 Axes>"
      ]
     },
     "metadata": {},
     "output_type": "display_data"
    }
   ],
   "source": [
    "plt.figure(figsize=(12,6))\n",
    "plt.plot(df.Close)\n",
    "plt.plot(ma100,'b')"
   ]
  },
  {
   "cell_type": "code",
   "execution_count": 10,
   "id": "73775774",
   "metadata": {},
   "outputs": [
    {
     "data": {
      "text/plain": [
       "0             NaN\n",
       "1             NaN\n",
       "2             NaN\n",
       "3             NaN\n",
       "4             NaN\n",
       "          ...    \n",
       "3016    142.85570\n",
       "3017    143.13220\n",
       "3018    143.40125\n",
       "3019    143.66845\n",
       "3020    143.95365\n",
       "Name: Close, Length: 3021, dtype: float64"
      ]
     },
     "execution_count": 10,
     "metadata": {},
     "output_type": "execute_result"
    }
   ],
   "source": [
    "ma200 = df.Close.rolling(200).mean()\n",
    "ma200"
   ]
  },
  {
   "cell_type": "code",
   "execution_count": 11,
   "id": "19a0c53b",
   "metadata": {},
   "outputs": [
    {
     "data": {
      "text/plain": [
       "[<matplotlib.lines.Line2D at 0x1f3cac4e408>]"
      ]
     },
     "execution_count": 11,
     "metadata": {},
     "output_type": "execute_result"
    },
    {
     "data": {
      "image/png": "[encoded data removed]",
      "text/plain": [
       "<Figure size 864x432 with 1 Axes>"
      ]
     },
     "metadata": {},
     "output_type": "display_data"
    }
   ],
   "source": [
    "plt.figure(figsize=(12,6))\n",
    "plt.plot(df.Close)\n",
    "plt.plot(ma100,'b')\n",
    "plt.plot(ma200,'g')"
   ]
  },
  {
   "cell_type": "code",
   "execution_count": 12,
   "id": "87dd8a46",
   "metadata": {},
   "outputs": [
    {
     "data": {
      "text/plain": [
       "(3021, 5)"
      ]
     },
     "execution_count": 12,
     "metadata": {},
     "output_type": "execute_result"
    }
   ],
   "source": [
    "df.shape\n"
   ]
  },
  {
   "cell_type": "code",
   "execution_count": 13,
   "id": "33ce214c",
   "metadata": {},
   "outputs": [
    {
     "name": "stdout",
     "output_type": "stream",
     "text": [
      "2335\n",
      "584\n"
     ]
    }
   ],
   "source": [
    "from sklearn.model_selection import train_test_split\n",
    "import numpy as np\n",
    "\n",
    "X = []\n",
    "Y = []\n",
    "window_size=100\n",
    "for i in range(1 , len(df) - window_size -1 , 1):\n",
    "    first = df.iloc[i,2]\n",
    "    temp = []\n",
    "    temp2 = []\n",
    "    for j in range(window_size):\n",
    "        temp.append((df.iloc[i + j, 2] - first) / first)\n",
    "    temp2.append((df.iloc[i + window_size, 2] - first) / first)\n",
    "    X.append(np.array(temp).reshape(100, 1))\n",
    "    Y.append(np.array(temp2).reshape(1, 1))\n",
    "\n",
    "x_train, x_test, y_train, y_test = train_test_split(X, Y, test_size=0.2, shuffle=True)\n",
    "\n",
    "train_X = np.array(x_train)\n",
    "test_X = np.array(x_test)\n",
    "train_Y = np.array(y_train)\n",
    "test_Y = np.array(y_test)\n",
    "\n",
    "train_X = train_X.reshape(train_X.shape[0],1,100,1)\n",
    "test_X = test_X.reshape(test_X.shape[0],1,100,1)\n",
    "\n",
    "print(len(train_X))\n",
    "print(len(test_X))"
   ]
  },
  {
   "cell_type": "code",
   "execution_count": 46,
   "id": "be59d4e2",
   "metadata": {},
   "outputs": [
    {
     "data": {
      "text/plain": [
       "array([[[[ 0.        ],\n",
       "         [ 0.00263852],\n",
       "         [-0.01187335],\n",
       "         ...,\n",
       "         [-0.16273725],\n",
       "         [-0.15354498],\n",
       "         [-0.16588646]]],\n",
       "\n",
       "\n",
       "       [[[ 0.        ],\n",
       "         [-0.01447368],\n",
       "         [-0.00819185],\n",
       "         ...,\n",
       "         [-0.1557725 ],\n",
       "         [-0.16808149],\n",
       "         [-0.20628183]]],\n",
       "\n",
       "\n",
       "       [[[ 0.        ],\n",
       "         [ 0.00637409],\n",
       "         [ 0.00047375],\n",
       "         ...,\n",
       "         [-0.15586373],\n",
       "         [-0.19462509],\n",
       "         [-0.16915026]]],\n",
       "\n",
       "\n",
       "       ...,\n",
       "\n",
       "\n",
       "       [[[ 0.        ],\n",
       "         [ 0.01167315],\n",
       "         [ 0.02013196],\n",
       "         ...,\n",
       "         [ 0.22382   ],\n",
       "         [ 0.21468449],\n",
       "         [ 0.2011504 ]]],\n",
       "\n",
       "\n",
       "       [[[ 0.        ],\n",
       "         [ 0.0083612 ],\n",
       "         [ 0.02341137],\n",
       "         ...,\n",
       "         [ 0.2006689 ],\n",
       "         [ 0.18729097],\n",
       "         [ 0.19698997]]],\n",
       "\n",
       "\n",
       "       [[[ 0.        ],\n",
       "         [ 0.01492537],\n",
       "         [ 0.0185738 ],\n",
       "         ...,\n",
       "         [ 0.1774461 ],\n",
       "         [ 0.18706468],\n",
       "         [ 0.18225539]]]])"
      ]
     },
     "execution_count": 46,
     "metadata": {},
     "output_type": "execute_result"
    }
   ],
   "source": [
    "train_X"
   ]
  },
  {
   "cell_type": "code",
   "execution_count": 15,
   "id": "d48a2091",
   "metadata": {
    "scrolled": true
   },
   "outputs": [
    {
     "data": {
      "text/plain": [
       "array([[[[ 0.        ],\n",
       "         [-0.02256169],\n",
       "         [-0.02245964],\n",
       "         ...,\n",
       "         [ 0.03693932],\n",
       "         [ 0.01218268],\n",
       "         [ 0.01786565]]],\n",
       "\n",
       "\n",
       "       [[[ 0.        ],\n",
       "         [ 0.0153931 ],\n",
       "         [-0.00488737],\n",
       "         ...,\n",
       "         [-0.22203438],\n",
       "         [-0.19841953],\n",
       "         [-0.17781937]]],\n",
       "\n",
       "\n",
       "       [[[ 0.        ],\n",
       "         [-0.01325882],\n",
       "         [ 0.00805196],\n",
       "         ...,\n",
       "         [ 0.01127278],\n",
       "         [ 0.02259921],\n",
       "         [ 0.01991522]]],\n",
       "\n",
       "\n",
       "       ...,\n",
       "\n",
       "\n",
       "       [[[ 0.        ],\n",
       "         [-0.02041748],\n",
       "         [ 0.00931737],\n",
       "         ...,\n",
       "         [ 0.20141488],\n",
       "         [ 0.19330535],\n",
       "         [ 0.19894181]]],\n",
       "\n",
       "\n",
       "       [[[ 0.        ],\n",
       "         [-0.0167027 ],\n",
       "         [-0.01709981],\n",
       "         ...,\n",
       "         [ 0.12918675],\n",
       "         [ 0.16148898],\n",
       "         [ 0.14513919]]],\n",
       "\n",
       "\n",
       "       [[[ 0.        ],\n",
       "         [ 0.00190033],\n",
       "         [-0.01442514],\n",
       "         ...,\n",
       "         [ 0.14286949],\n",
       "         [ 0.16144088],\n",
       "         [ 0.12429824]]]])"
      ]
     },
     "execution_count": 15,
     "metadata": {},
     "output_type": "execute_result"
    }
   ],
   "source": [
    "test_X"
   ]
  },
  {
   "cell_type": "code",
   "execution_count": 16,
   "id": "9f1ae3cf",
   "metadata": {},
   "outputs": [
    {
     "name": "stdout",
     "output_type": "stream",
     "text": [
      "Epoch 1/40\n",
      "WARNING:tensorflow:AutoGraph could not transform <function Model.make_train_function.<locals>.train_function at 0x000001F3D450DEE8> and will run it as-is.\n",
      "Please report this to the TensorFlow team. When filing the bug, set the verbosity to 10 (on Linux, `export AUTOGRAPH_VERBOSITY=10`) and attach the full output.\n",
      "Cause: 'arguments' object has no attribute 'posonlyargs'\n",
      "To silence this warning, decorate the function with @tf.autograph.experimental.do_not_convert\n",
      "WARNING: AutoGraph could not transform <function Model.make_train_function.<locals>.train_function at 0x000001F3D450DEE8> and will run it as-is.\n",
      "Please report this to the TensorFlow team. When filing the bug, set the verbosity to 10 (on Linux, `export AUTOGRAPH_VERBOSITY=10`) and attach the full output.\n",
      "Cause: 'arguments' object has no attribute 'posonlyargs'\n",
      "To silence this warning, decorate the function with @tf.autograph.experimental.do_not_convert\n",
      "58/59 [============================>.] - ETA: 0s - loss: 0.0145 - mse: 0.0145 - mae: 0.0896WARNING:tensorflow:AutoGraph could not transform <function Model.make_test_function.<locals>.test_function at 0x000001F3DFD3E558> and will run it as-is.\n",
      "Please report this to the TensorFlow team. When filing the bug, set the verbosity to 10 (on Linux, `export AUTOGRAPH_VERBOSITY=10`) and attach the full output.\n",
      "Cause: 'arguments' object has no attribute 'posonlyargs'\n",
      "To silence this warning, decorate the function with @tf.autograph.experimental.do_not_convert\n",
      "WARNING: AutoGraph could not transform <function Model.make_test_function.<locals>.test_function at 0x000001F3DFD3E558> and will run it as-is.\n",
      "Please report this to the TensorFlow team. When filing the bug, set the verbosity to 10 (on Linux, `export AUTOGRAPH_VERBOSITY=10`) and attach the full output.\n",
      "Cause: 'arguments' object has no attribute 'posonlyargs'\n",
      "To silence this warning, decorate the function with @tf.autograph.experimental.do_not_convert\n",
      "59/59 [==============================] - 26s 97ms/step - loss: 0.0144 - mse: 0.0144 - mae: 0.0894 - val_loss: 0.0070 - val_mse: 0.0070 - val_mae: 0.0628\n",
      "Epoch 2/40\n",
      "59/59 [==============================] - 2s 32ms/step - loss: 0.0063 - mse: 0.0063 - mae: 0.0603 - val_loss: 0.0046 - val_mse: 0.0046 - val_mae: 0.0513\n",
      "Epoch 3/40\n",
      "59/59 [==============================] - 2s 32ms/step - loss: 0.0058 - mse: 0.0058 - mae: 0.0568 - val_loss: 0.0058 - val_mse: 0.0058 - val_mae: 0.0570\n",
      "Epoch 4/40\n",
      "59/59 [==============================] - 2s 31ms/step - loss: 0.0048 - mse: 0.0048 - mae: 0.0519 - val_loss: 0.0045 - val_mse: 0.0045 - val_mae: 0.0499\n",
      "Epoch 5/40\n",
      "59/59 [==============================] - 2s 32ms/step - loss: 0.0045 - mse: 0.0045 - mae: 0.0503 - val_loss: 0.0046 - val_mse: 0.0046 - val_mae: 0.0520\n",
      "Epoch 6/40\n",
      "59/59 [==============================] - 2s 32ms/step - loss: 0.0044 - mse: 0.0044 - mae: 0.0499 - val_loss: 0.0040 - val_mse: 0.0040 - val_mae: 0.0479\n",
      "Epoch 7/40\n",
      "59/59 [==============================] - 2s 31ms/step - loss: 0.0042 - mse: 0.0042 - mae: 0.0487 - val_loss: 0.0041 - val_mse: 0.0041 - val_mae: 0.0481\n",
      "Epoch 8/40\n",
      "59/59 [==============================] - 2s 32ms/step - loss: 0.0042 - mse: 0.0042 - mae: 0.0476 - val_loss: 0.0050 - val_mse: 0.0050 - val_mae: 0.0513\n",
      "Epoch 9/40\n",
      "59/59 [==============================] - 2s 32ms/step - loss: 0.0041 - mse: 0.0041 - mae: 0.0472 - val_loss: 0.0035 - val_mse: 0.0035 - val_mae: 0.0437\n",
      "Epoch 10/40\n",
      "59/59 [==============================] - 2s 32ms/step - loss: 0.0037 - mse: 0.0037 - mae: 0.0451 - val_loss: 0.0037 - val_mse: 0.0037 - val_mae: 0.0452\n",
      "Epoch 11/40\n",
      "59/59 [==============================] - 2s 32ms/step - loss: 0.0038 - mse: 0.0038 - mae: 0.0460 - val_loss: 0.0034 - val_mse: 0.0034 - val_mae: 0.0449\n",
      "Epoch 12/40\n",
      "59/59 [==============================] - 2s 31ms/step - loss: 0.0034 - mse: 0.0034 - mae: 0.0432 - val_loss: 0.0034 - val_mse: 0.0034 - val_mae: 0.0447\n",
      "Epoch 13/40\n",
      "59/59 [==============================] - 2s 32ms/step - loss: 0.0036 - mse: 0.0036 - mae: 0.0452 - val_loss: 0.0032 - val_mse: 0.0032 - val_mae: 0.0431\n",
      "Epoch 14/40\n",
      "59/59 [==============================] - 2s 32ms/step - loss: 0.0034 - mse: 0.0034 - mae: 0.0442 - val_loss: 0.0030 - val_mse: 0.0030 - val_mae: 0.0421\n",
      "Epoch 15/40\n",
      "59/59 [==============================] - 2s 32ms/step - loss: 0.0034 - mse: 0.0034 - mae: 0.0438 - val_loss: 0.0034 - val_mse: 0.0034 - val_mae: 0.0441\n",
      "Epoch 16/40\n",
      "59/59 [==============================] - 2s 33ms/step - loss: 0.0032 - mse: 0.0032 - mae: 0.0428 - val_loss: 0.0032 - val_mse: 0.0032 - val_mae: 0.0434\n",
      "Epoch 17/40\n",
      "59/59 [==============================] - 2s 32ms/step - loss: 0.0031 - mse: 0.0031 - mae: 0.0419 - val_loss: 0.0029 - val_mse: 0.0029 - val_mae: 0.0415\n",
      "Epoch 18/40\n",
      "59/59 [==============================] - 2s 32ms/step - loss: 0.0029 - mse: 0.0029 - mae: 0.0411 - val_loss: 0.0029 - val_mse: 0.0029 - val_mae: 0.0417\n",
      "Epoch 19/40\n",
      "59/59 [==============================] - 2s 31ms/step - loss: 0.0029 - mse: 0.0029 - mae: 0.0413 - val_loss: 0.0036 - val_mse: 0.0036 - val_mae: 0.0474\n",
      "Epoch 20/40\n",
      "59/59 [==============================] - 2s 32ms/step - loss: 0.0030 - mse: 0.0030 - mae: 0.0418 - val_loss: 0.0025 - val_mse: 0.0025 - val_mae: 0.0389\n",
      "Epoch 21/40\n",
      "59/59 [==============================] - 2s 31ms/step - loss: 0.0027 - mse: 0.0027 - mae: 0.0398 - val_loss: 0.0029 - val_mse: 0.0029 - val_mae: 0.0416\n",
      "Epoch 22/40\n",
      "59/59 [==============================] - 2s 32ms/step - loss: 0.0027 - mse: 0.0027 - mae: 0.0393 - val_loss: 0.0024 - val_mse: 0.0024 - val_mae: 0.0384\n",
      "Epoch 23/40\n",
      "59/59 [==============================] - 2s 31ms/step - loss: 0.0027 - mse: 0.0027 - mae: 0.0397 - val_loss: 0.0029 - val_mse: 0.0029 - val_mae: 0.0412\n",
      "Epoch 24/40\n",
      "59/59 [==============================] - 2s 31ms/step - loss: 0.0025 - mse: 0.0025 - mae: 0.0383 - val_loss: 0.0026 - val_mse: 0.0026 - val_mae: 0.0399\n",
      "Epoch 25/40\n",
      "59/59 [==============================] - 2s 32ms/step - loss: 0.0028 - mse: 0.0028 - mae: 0.0409 - val_loss: 0.0023 - val_mse: 0.0023 - val_mae: 0.0378\n",
      "Epoch 26/40\n",
      "59/59 [==============================] - 2s 31ms/step - loss: 0.0023 - mse: 0.0023 - mae: 0.0369 - val_loss: 0.0027 - val_mse: 0.0027 - val_mae: 0.0400\n",
      "Epoch 27/40\n",
      "59/59 [==============================] - 2s 32ms/step - loss: 0.0025 - mse: 0.0025 - mae: 0.0385 - val_loss: 0.0032 - val_mse: 0.0032 - val_mae: 0.0424\n",
      "Epoch 28/40\n",
      "59/59 [==============================] - 2s 31ms/step - loss: 0.0027 - mse: 0.0027 - mae: 0.0392 - val_loss: 0.0026 - val_mse: 0.0026 - val_mae: 0.0393\n",
      "Epoch 29/40\n",
      "59/59 [==============================] - 2s 30ms/step - loss: 0.0025 - mse: 0.0025 - mae: 0.0379 - val_loss: 0.0029 - val_mse: 0.0029 - val_mae: 0.0411\n",
      "Epoch 30/40\n",
      "59/59 [==============================] - 2s 30ms/step - loss: 0.0024 - mse: 0.0024 - mae: 0.0376 - val_loss: 0.0025 - val_mse: 0.0025 - val_mae: 0.0386\n",
      "Epoch 31/40\n",
      "59/59 [==============================] - 2s 31ms/step - loss: 0.0022 - mse: 0.0022 - mae: 0.0357 - val_loss: 0.0027 - val_mse: 0.0027 - val_mae: 0.0395\n",
      "Epoch 32/40\n",
      "59/59 [==============================] - 2s 30ms/step - loss: 0.0021 - mse: 0.0021 - mae: 0.0359 - val_loss: 0.0023 - val_mse: 0.0023 - val_mae: 0.0366\n",
      "Epoch 33/40\n",
      "59/59 [==============================] - 2s 30ms/step - loss: 0.0023 - mse: 0.0023 - mae: 0.0359 - val_loss: 0.0025 - val_mse: 0.0025 - val_mae: 0.0383\n",
      "Epoch 34/40\n",
      "59/59 [==============================] - 2s 30ms/step - loss: 0.0022 - mse: 0.0022 - mae: 0.0362 - val_loss: 0.0024 - val_mse: 0.0024 - val_mae: 0.0379\n",
      "Epoch 35/40\n",
      "59/59 [==============================] - 2s 30ms/step - loss: 0.0024 - mse: 0.0024 - mae: 0.0368 - val_loss: 0.0024 - val_mse: 0.0024 - val_mae: 0.0381\n",
      "Epoch 36/40\n",
      "59/59 [==============================] - 2s 31ms/step - loss: 0.0023 - mse: 0.0023 - mae: 0.0370 - val_loss: 0.0022 - val_mse: 0.0022 - val_mae: 0.0361\n",
      "Epoch 37/40\n",
      "59/59 [==============================] - 2s 30ms/step - loss: 0.0019 - mse: 0.0019 - mae: 0.0333 - val_loss: 0.0025 - val_mse: 0.0025 - val_mae: 0.0390\n",
      "Epoch 38/40\n",
      "59/59 [==============================] - 2s 30ms/step - loss: 0.0019 - mse: 0.0019 - mae: 0.0338 - val_loss: 0.0022 - val_mse: 0.0022 - val_mae: 0.0357\n",
      "Epoch 39/40\n"
     ]
    },
    {
     "name": "stdout",
     "output_type": "stream",
     "text": [
      "59/59 [==============================] - 2s 31ms/step - loss: 0.0022 - mse: 0.0022 - mae: 0.0362 - val_loss: 0.0021 - val_mse: 0.0021 - val_mae: 0.0355\n",
      "Epoch 40/40\n",
      "59/59 [==============================] - 2s 31ms/step - loss: 0.0020 - mse: 0.0020 - mae: 0.0343 - val_loss: 0.0022 - val_mse: 0.0022 - val_mae: 0.0363\n"
     ]
    }
   ],
   "source": [
    " # ML Model\n",
    "\n",
    "import tensorflow as tf\n",
    "from tensorflow.keras.layers import Conv1D, LSTM, Dense, Dropout, Bidirectional, TimeDistributed\n",
    "from tensorflow.keras.layers import MaxPooling1D, Flatten\n",
    "from keras.layers import deserialize as layer_from_config\n",
    "from tensorflow.keras.metrics import Accuracy\n",
    "from tensorflow.keras.metrics import RootMeanSquaredError\n",
    "\n",
    "model = tf.keras.Sequential()\n",
    "\n",
    "\n",
    "# CNN layers\n",
    "model.add(TimeDistributed(Conv1D(64, kernel_size=3, activation='relu', input_shape=(None, 100, 1))))\n",
    "model.add(TimeDistributed(MaxPooling1D(2)))\n",
    "model.add(TimeDistributed(Conv1D(128, kernel_size=3, activation='relu')))\n",
    "model.add(TimeDistributed(MaxPooling1D(2)))\n",
    "model.add(TimeDistributed(Conv1D(64, kernel_size=3, activation='relu')))\n",
    "# adding layer(here we can play as we want )\n",
    "model.add(TimeDistributed(MaxPooling1D(2)))\n",
    "model.add(TimeDistributed(Conv1D(64, kernel_size=3, activation='relu')))\n",
    "#finish all layers\n",
    "model.add(TimeDistributed(MaxPooling1D(2)))\n",
    "model.add(TimeDistributed(Flatten()))\n",
    "\n",
    "\n",
    "# LSTM layers\n",
    "model.add(Bidirectional(LSTM(100, return_sequences=True)))\n",
    "model.add(Dropout(0.5))\n",
    "model.add(Bidirectional(LSTM(100, return_sequences=False)))\n",
    "model.add(Dropout(0.5))\n",
    "\n",
    "#Final layers\n",
    "model.add(Dense(1, activation='linear'))\n",
    "model.compile(optimizer='adam', loss='mse', metrics=['mse', 'mae'])\n",
    "\n",
    "history = model.fit(train_X, train_Y, validation_data=(test_X,test_Y), epochs=40,batch_size=40, verbose=1, shuffle =True)"
   ]
  },
  {
   "cell_type": "code",
   "execution_count": 17,
   "id": "bd76961c",
   "metadata": {},
   "outputs": [
    {
     "name": "stdout",
     "output_type": "stream",
     "text": [
      "Model: \"sequential\"\n",
      "_________________________________________________________________\n",
      " Layer (type)                Output Shape              Param #   \n",
      "=================================================================\n",
      " time_distributed (TimeDistr  (None, 1, 98, 64)        256       \n",
      " ibuted)                                                         \n",
      "                                                                 \n",
      " time_distributed_1 (TimeDis  (None, 1, 49, 64)        0         \n",
      " tributed)                                                       \n",
      "                                                                 \n",
      " time_distributed_2 (TimeDis  (None, 1, 47, 128)       24704     \n",
      " tributed)                                                       \n",
      "                                                                 \n",
      " time_distributed_3 (TimeDis  (None, 1, 23, 128)       0         \n",
      " tributed)                                                       \n",
      "                                                                 \n",
      " time_distributed_4 (TimeDis  (None, 1, 21, 64)        24640     \n",
      " tributed)                                                       \n",
      "                                                                 \n",
      " time_distributed_5 (TimeDis  (None, 1, 10, 64)        0         \n",
      " tributed)                                                       \n",
      "                                                                 \n",
      " time_distributed_6 (TimeDis  (None, 1, 8, 64)         12352     \n",
      " tributed)                                                       \n",
      "                                                                 \n",
      " time_distributed_7 (TimeDis  (None, 1, 4, 64)         0         \n",
      " tributed)                                                       \n",
      "                                                                 \n",
      " time_distributed_8 (TimeDis  (None, 1, 256)           0         \n",
      " tributed)                                                       \n",
      "                                                                 \n",
      " bidirectional (Bidirectiona  (None, 1, 200)           285600    \n",
      " l)                                                              \n",
      "                                                                 \n",
      " dropout (Dropout)           (None, 1, 200)            0         \n",
      "                                                                 \n",
      " bidirectional_1 (Bidirectio  (None, 200)              240800    \n",
      " nal)                                                            \n",
      "                                                                 \n",
      " dropout_1 (Dropout)         (None, 200)               0         \n",
      "                                                                 \n",
      " dense (Dense)               (None, 1)                 201       \n",
      "                                                                 \n",
      "=================================================================\n",
      "Total params: 588,553\n",
      "Trainable params: 588,553\n",
      "Non-trainable params: 0\n",
      "_________________________________________________________________\n",
      "None\n",
      "('You must install pydot (`pip install pydot`) and install graphviz (see instructions at https://graphviz.gitlab.io/download/) ', 'for plot_model/model_to_dot to work.')\n"
     ]
    }
   ],
   "source": [
    "# After the model has been constructed, we'll summarise it\n",
    "from tensorflow.keras.utils import plot_model\n",
    "print(model.summary())\n",
    "plot_model(model, to_file='model.png', show_shapes=True, show_layer_names=True)"
   ]
  },
  {
   "cell_type": "code",
   "execution_count": 18,
   "id": "351c1df2",
   "metadata": {},
   "outputs": [
    {
     "name": "stdout",
     "output_type": "stream",
     "text": [
      "19/19 [==============================] - 0s 8ms/step - loss: 0.0022 - mse: 0.0022 - mae: 0.0363\n"
     ]
    },
    {
     "data": {
      "text/plain": [
       "[0.0022102855145931244, 0.0022102855145931244, 0.03627515584230423]"
      ]
     },
     "execution_count": 18,
     "metadata": {},
     "output_type": "execute_result"
    }
   ],
   "source": [
    "model.evaluate(test_X, test_Y)"
   ]
  },
  {
   "cell_type": "code",
   "execution_count": 19,
   "id": "e2ea5920",
   "metadata": {},
   "outputs": [
    {
     "name": "stdout",
     "output_type": "stream",
     "text": [
      "WARNING:tensorflow:AutoGraph could not transform <function Model.make_predict_function.<locals>.predict_function at 0x000001F3E36AE558> and will run it as-is.\n",
      "Please report this to the TensorFlow team. When filing the bug, set the verbosity to 10 (on Linux, `export AUTOGRAPH_VERBOSITY=10`) and attach the full output.\n",
      "Cause: 'arguments' object has no attribute 'posonlyargs'\n",
      "To silence this warning, decorate the function with @tf.autograph.experimental.do_not_convert\n",
      "WARNING: AutoGraph could not transform <function Model.make_predict_function.<locals>.predict_function at 0x000001F3E36AE558> and will run it as-is.\n",
      "Please report this to the TensorFlow team. When filing the bug, set the verbosity to 10 (on Linux, `export AUTOGRAPH_VERBOSITY=10`) and attach the full output.\n",
      "Cause: 'arguments' object has no attribute 'posonlyargs'\n",
      "To silence this warning, decorate the function with @tf.autograph.experimental.do_not_convert\n",
      "Variance: 0.941505\n",
      "R2 Score: 0.941505\n",
      "Max Error: 0.221404\n"
     ]
    }
   ],
   "source": [
    "from sklearn.metrics import explained_variance_score, mean_poisson_deviance, mean_gamma_deviance\n",
    "from sklearn.metrics import r2_score\n",
    "from sklearn.metrics import max_error\n",
    "\n",
    "# predict probabilities for test set\n",
    "yhat_probs = model.predict(test_X, verbose=0)\n",
    "# reduce to 1d array\n",
    "yhat_probs = yhat_probs[:, 0]\n",
    "\n",
    "var = explained_variance_score(test_Y.reshape(-1,1), yhat_probs)\n",
    "print('Variance: %f' % var)\n",
    "\n",
    "r2 = r2_score(test_Y.reshape(-1,1), yhat_probs)\n",
    "print('R2 Score: %f' % var)\n",
    "\n",
    "var2 = max_error(test_Y.reshape(-1,1), yhat_probs)\n",
    "print('Max Error: %f' % var2)"
   ]
  },
  {
   "cell_type": "code",
   "execution_count": 20,
   "id": "613a1e0d",
   "metadata": {},
   "outputs": [],
   "source": [
    "model.save('price.h5')"
   ]
  },
  {
   "cell_type": "code",
   "execution_count": 22,
   "id": "bd7e3286",
   "metadata": {},
   "outputs": [
    {
     "data": {
      "image/png": "[encoded data removed]",
      "text/plain": [
       "<Figure size 432x288 with 1 Axes>"
      ]
     },
     "metadata": {},
     "output_type": "display_data"
    }
   ],
   "source": [
    "# making prediction\n",
    "predicted  = model.predict(test_X)\n",
    "test_label = test_Y.reshape(-1,1)\n",
    "predicted = np.array(predicted[:,0]).reshape(-1,1)\n",
    "len_t = len(train_X)\n",
    "for j in range(len_t , len_t + len(test_X)):\n",
    "    temp = df.iloc[j,3]\n",
    "    test_label[j - len_t] = test_label[j - len_t] * temp + temp\n",
    "    predicted[j - lenplt.plot(predicted, color = 'green', label = 'Predicted  Stock Price')\n",
    "plt.plot(test_label, color = 'red', label = 'Real Stock Price')\n",
    "plt.title(' Stock Price Prediction')\n",
    "plt.xlabel('Time')\n",
    "plt.ylabel(' Stock Price')\n",
    "plt.legend()\n",
    "plt.show()_t] = predicted[j - len_t] * temp + temp\n"
   ]
  },
  {
   "cell_type": "code",
   "execution_count": 23,
   "id": "c4b1592c",
   "metadata": {},
   "outputs": [],
   "source": [
    "new_model = tf.keras.models.load_model(\"price.h5\")"
   ]
  },
  {
   "cell_type": "code",
   "execution_count": 24,
   "id": "d6a13017",
   "metadata": {},
   "outputs": [
    {
     "name": "stdout",
     "output_type": "stream",
     "text": [
      "Model: \"sequential\"\n",
      "_________________________________________________________________\n",
      " Layer (type)                Output Shape              Param #   \n",
      "=================================================================\n",
      " time_distributed (TimeDistr  (None, 1, 98, 64)        256       \n",
      " ibuted)                                                         \n",
      "                                                                 \n",
      " time_distributed_1 (TimeDis  (None, 1, 49, 64)        0         \n",
      " tributed)                                                       \n",
      "                                                                 \n",
      " time_distributed_2 (TimeDis  (None, 1, 47, 128)       24704     \n",
      " tributed)                                                       \n",
      "                                                                 \n",
      " time_distributed_3 (TimeDis  (None, 1, 23, 128)       0         \n",
      " tributed)                                                       \n",
      "                                                                 \n",
      " time_distributed_4 (TimeDis  (None, 1, 21, 64)        24640     \n",
      " tributed)                                                       \n",
      "                                                                 \n",
      " time_distributed_5 (TimeDis  (None, 1, 10, 64)        0         \n",
      " tributed)                                                       \n",
      "                                                                 \n",
      " time_distributed_6 (TimeDis  (None, 1, 8, 64)         12352     \n",
      " tributed)                                                       \n",
      "                                                                 \n",
      " time_distributed_7 (TimeDis  (None, 1, 4, 64)         0         \n",
      " tributed)                                                       \n",
      "                                                                 \n",
      " time_distributed_8 (TimeDis  (None, 1, 256)           0         \n",
      " tributed)                                                       \n",
      "                                                                 \n",
      " bidirectional (Bidirectiona  (None, 1, 200)           285600    \n",
      " l)                                                              \n",
      "                                                                 \n",
      " dropout (Dropout)           (None, 1, 200)            0         \n",
      "                                                                 \n",
      " bidirectional_1 (Bidirectio  (None, 200)              240800    \n",
      " nal)                                                            \n",
      "                                                                 \n",
      " dropout_1 (Dropout)         (None, 200)               0         \n",
      "                                                                 \n",
      " dense (Dense)               (None, 1)                 201       \n",
      "                                                                 \n",
      "=================================================================\n",
      "Total params: 588,553\n",
      "Trainable params: 588,553\n",
      "Non-trainable params: 0\n",
      "_________________________________________________________________\n"
     ]
    }
   ],
   "source": [
    "new_model.summary()"
   ]
  },
  {
   "cell_type": "code",
   "execution_count": 42,
   "id": "1fd69377",
   "metadata": {},
   "outputs": [
    {
     "name": "stdout",
     "output_type": "stream",
     "text": [
      "     Symbol Series  Prev Close     Open     High      Low     Last    Close  \\\n",
      "0      SBIN     EQ     2297.95  2308.80  2337.00  2301.00  2333.00  2329.20   \n",
      "1      SBIN     EQ     2329.20  2308.00  2349.80  2294.00  2331.00  2334.20   \n",
      "2      SBIN     EQ     2334.20  2334.70  2356.00  2301.00  2319.00  2312.50   \n",
      "3      SBIN     EQ     2312.50  2303.00  2321.90  2272.40  2319.00  2317.15   \n",
      "4      SBIN     EQ     2317.15  2313.40  2336.70  2305.10  2313.00  2320.10   \n",
      "...     ...    ...         ...      ...      ...      ...      ...      ...   \n",
      "2451   SBIN     EQ      336.45   339.25   347.45   339.25   344.80   344.30   \n",
      "2452   SBIN     EQ      344.30   344.00   354.95   342.40   354.20   353.05   \n",
      "2453   SBIN     EQ      353.05   357.00   364.30   356.05   362.90   363.40   \n",
      "2454   SBIN     EQ      363.40   365.00   369.95   355.50   357.45   359.40   \n",
      "2455   SBIN     EQ      359.40   353.45   362.50   350.45   352.30   353.50   \n",
      "\n",
      "         VWAP    Volume      Turnover    Trades  Deliverable Volume  \\\n",
      "0     2324.19   2542464  5.909180e+14   86631.0           1245867.0   \n",
      "1     2329.87   1990668  4.637990e+14   86365.0            652131.0   \n",
      "2     2322.82   1572901  3.653560e+14   66161.0            538544.0   \n",
      "3     2298.05   1340553  3.080650e+14   68010.0            311788.0   \n",
      "4     2321.14   1252690  2.907670e+14   49823.0            393364.0   \n",
      "...       ...       ...           ...       ...                 ...   \n",
      "2451   345.26  49234985  1.699870e+15  306217.0          11962001.0   \n",
      "2452   349.42  46003023  1.607460e+15  293357.0           9882201.0   \n",
      "2453   361.63  56696255  2.050310e+15  337002.0          13430042.0   \n",
      "2454   361.26  63692926  2.300950e+15  348461.0          10008961.0   \n",
      "2455   357.11  53832840  1.922410e+15  296959.0          13261927.0   \n",
      "\n",
      "      %Deliverble  \n",
      "0          0.4900  \n",
      "1          0.3276  \n",
      "2          0.3424  \n",
      "3          0.2326  \n",
      "4          0.3140  \n",
      "...           ...  \n",
      "2451       0.2430  \n",
      "2452       0.2148  \n",
      "2453       0.2369  \n",
      "2454       0.1571  \n",
      "2455       0.2464  \n",
      "\n",
      "[2456 rows x 14 columns]\n",
      "1883\n",
      "471\n"
     ]
    }
   ],
   "source": [
    "\n",
    "\n",
    "data2 = pd.read_csv('C:/Users/Developer/Desktop/yousef douba project/data/SBIN.csv')\n",
    "\n",
    "data2.dropna(inplace=True)\n",
    "data2.head()\n",
    "\n",
    "data2.reset_index(drop=True, inplace=True)\n",
    "data2.fillna(df.mean(), inplace=True)\n",
    "data2.head()\n",
    "df2 = data2.drop('date', axis=1)\n",
    "\n",
    "print(df2)\n",
    "\n",
    "X = []\n",
    "Y = []\n",
    "window_size=100\n",
    "for i in range(1 , len(df2) - window_size -1 , 1):\n",
    "    first = df2.iloc[i,4]\n",
    "    temp = []\n",
    "    temp2 = []\n",
    "    for j in range(window_size):\n",
    "        temp.append((df2.iloc[i + j, 4] - first) / first)\n",
    "    \n",
    "    temp2.append((df2.iloc[i + window_size, 4] - first) / first)\n",
    "   \n",
    "    X.append(np.array(temp).reshape(100, 1))\n",
    "    Y.append(np.array(temp2).reshape(1, 1))\n",
    "\n",
    "x_train, x_test, y_train, y_test = train_test_split(X, Y, test_size=0.2, shuffle=False)\n",
    "\n",
    "train_X = np.array(x_train)\n",
    "test_X = np.array(x_test)\n",
    "train_Y = np.array(y_train)\n",
    "test_Y = np.array(y_test)\n",
    "\n",
    "train_X = train_X.reshape(train_X.shape[0],1,100,1)\n",
    "test_X = test_X.reshape(test_X.shape[0],1,100,1)\n",
    "\n",
    "print(len(train_X))\n",
    "print(len(test_X))"
   ]
  },
  {
   "cell_type": "code",
   "execution_count": 43,
   "id": "30d22275",
   "metadata": {},
   "outputs": [
    {
     "name": "stdout",
     "output_type": "stream",
     "text": [
      "15/15 [==============================] - 0s 5ms/step - loss: 0.0223 - mse: 0.0223 - mae: 0.1011\n"
     ]
    },
    {
     "data": {
      "text/plain": [
       "[0.02229759283363819, 0.02229759283363819, 0.10113700479269028]"
      ]
     },
     "execution_count": 43,
     "metadata": {},
     "output_type": "execute_result"
    }
   ],
   "source": [
    "model.evaluate(test_X, test_Y)"
   ]
  },
  {
   "cell_type": "code",
   "execution_count": 44,
   "id": "5ef5179f",
   "metadata": {},
   "outputs": [
    {
     "data": {
      "image/png": "[encoded data removed]",
      "text/plain": [
       "<Figure size 432x288 with 1 Axes>"
      ]
     },
     "metadata": {},
     "output_type": "display_data"
    }
   ],
   "source": [
    "predicted  = model.predict(test_X)\n",
    "test_label = test_Y.reshape(-1,1)\n",
    "predicted = np.array(predicted[:,0]).reshape(-1,1)\n",
    "len_t = len(train_X)\n",
    "for j in range(len_t , len_t + len(test_X)):\n",
    "    temp = data2.iloc[j,3]\n",
    "    test_label[j - len_t] = test_label[j - len_t] * temp + temp\n",
    "    predicted[j - len_t] = predicted[j - len_t] * temp + temp\n",
    "plt.plot(predicted, color = 'green', label = 'Predicted  Stock Price')\n",
    "plt.plot(test_label, color = 'red', label = 'Real Stock Price')\n",
    "plt.title(' Stock Price Prediction')\n",
    "plt.xlabel('Time')\n",
    "plt.ylabel(' Stock Price')\n",
    "plt.legend()\n",
    "plt.show()"
   ]
  },
  {
   "cell_type": "code",
   "execution_count": null,
   "id": "48e7c028",
   "metadata": {},
   "outputs": [],
   "source": []
  }
 ],
 "metadata": {
  "kernelspec": {
   "display_name": "Python 3 (ipykernel)",
   "language": "python",
   "name": "python3"
  },
  "language_info": {
   "codemirror_mode": {
    "name": "ipython",
    "version": 3
   },
   "file_extension": ".py",
   "mimetype": "text/x-python",
   "name": "python",
   "nbconvert_exporter": "python",
   "pygments_lexer": "ipython3",
   "version": "3.7.11"
  }
 },
 "nbformat": 4,
 "nbformat_minor": 5
}
